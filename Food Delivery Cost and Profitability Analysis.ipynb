{
 "cells": [
  {
   "cell_type": "markdown",
   "id": "18cb4ffe-e857-4746-910e-2b4d4c7d1566",
   "metadata": {},
   "source": [
    "# Food Delivery Cost and Profitability Analysis"
   ]
  },
  {
   "cell_type": "markdown",
   "id": "3afc60a2-1859-4a00-a31f-bd5f9b73c65a",
   "metadata": {},
   "source": [
    "Food Delivery Cost and Profitability Analysis is a comprehensive evaluation aimed at understanding and optimizing the financial dynamics of a food delivery operation. The goal is to identify areas where the service can reduce costs, increase revenue, and implement pricing or commission strategies that enhance profitability."
   ]
  },
  {
   "cell_type": "markdown",
   "id": "06fadbf2-646e-4d5d-bb0e-556e3e9622cd",
   "metadata": {},
   "source": [
    "Food Delivery Cost and Profitability Analysis involves examining all the costs associated with delivering food orders, from direct expenses like delivery fees and packaging to indirect expenses like discounts offered to customers and commission fees paid by restaurants. By juxtaposing these costs against the revenue generated (primarily through order values and commission fees), the analysis aims to provide insights into how profitable the food delivery service is on a per-order basis."
   ]
  },
  {
   "cell_type": "markdown",
   "id": "0ac583ca-8cb5-47bf-92ee-82f6264438a8",
   "metadata": {},
   "source": [
    "## Approach"
   ]
  },
  {
   "cell_type": "markdown",
   "id": "8542d707-ef18-49c4-9b73-87aa088467e3",
   "metadata": {},
   "source": [
    "Below is the process we can follow for the task of Food Delivery Cost and Profitability Analysis:\n",
    "\n",
    "* Start by gathering comprehensive data related to all aspects of food delivery operations.\n",
    "* Clean the dataset for inconsistencies, missing values, or irrelevant information.\n",
    "* Extract relevant features that could impact cost and profitability.\n",
    "* Break down the costs associated with each order, including fixed costs (like packaging) and variable costs (like delivery fees and discounts).\n",
    "* Determine the revenue generated from each order, focusing on commission fees and the order value before discounts.\n",
    "* For each order, calculate the profit by subtracting the total costs from the revenue.\n",
    "* Analyze the distribution of profitability across all orders to identify trends.\n",
    "* Based on the cost and profitability analysis, develop strategic recommendations aimed at enhancing profitability.\n",
    "* Use the data to simulate the financial impact of proposed changes, such as adjusting discount or commission rates."
   ]
  },
  {
   "cell_type": "code",
   "execution_count": 52,
   "id": "57c846b3-2516-447a-ba84-cda9bf9db40d",
   "metadata": {},
   "outputs": [],
   "source": [
    "# Import Libraries\n",
    "import pandas as pd\n",
    "from datetime import datetime\n",
    "import matplotlib.pyplot as plt\n",
    "import seaborn as sns"
   ]
  },
  {
   "cell_type": "code",
   "execution_count": 2,
   "id": "064469e1-a2bf-45c0-b6bb-4ce259c1b010",
   "metadata": {},
   "outputs": [],
   "source": [
    "# Load data\n",
    "food_orders = pd.read_csv(\"food_orders_new_delhi.csv\")"
   ]
  },
  {
   "cell_type": "code",
   "execution_count": 3,
   "id": "f8c4d3d4-0c18-4dd0-8c0f-f8b72e3aeb2a",
   "metadata": {},
   "outputs": [
    {
     "name": "stdout",
     "output_type": "stream",
     "text": [
      "<class 'pandas.core.frame.DataFrame'>\n",
      "RangeIndex: 1000 entries, 0 to 999\n",
      "Data columns (total 12 columns):\n",
      " #   Column                  Non-Null Count  Dtype \n",
      "---  ------                  --------------  ----- \n",
      " 0   Order ID                1000 non-null   int64 \n",
      " 1   Customer ID             1000 non-null   object\n",
      " 2   Restaurant ID           1000 non-null   object\n",
      " 3   Order Date and Time     1000 non-null   object\n",
      " 4   Delivery Date and Time  1000 non-null   object\n",
      " 5   Order Value             1000 non-null   int64 \n",
      " 6   Delivery Fee            1000 non-null   int64 \n",
      " 7   Payment Method          1000 non-null   object\n",
      " 8   Discounts and Offers    1000 non-null   object\n",
      " 9   Commission Fee          1000 non-null   int64 \n",
      " 10  Payment Processing Fee  1000 non-null   int64 \n",
      " 11  Refunds/Chargebacks     1000 non-null   int64 \n",
      "dtypes: int64(6), object(6)\n",
      "memory usage: 93.9+ KB\n"
     ]
    }
   ],
   "source": [
    "# information on dataset\n",
    "food_orders.info()"
   ]
  },
  {
   "cell_type": "markdown",
   "id": "55ce0ad6-4f67-4b5f-8d72-abdc8a8c1a14",
   "metadata": {},
   "source": [
    "The dataset contains 1,000 entries and 12 columns, with no missing values in any of the columns. Now, we need to perform some data cleaning and preparation. \n"
   ]
  },
  {
   "cell_type": "markdown",
   "id": "019a212c-aa94-4b15-9779-d318a3cdabba",
   "metadata": {},
   "source": [
    "## Data Preparation"
   ]
  },
  {
   "cell_type": "markdown",
   "id": "21fd6d4b-f438-4145-8c5a-187b503804fa",
   "metadata": {},
   "source": [
    "Below are the necessary cleaning steps we need to take:\n",
    "\n",
    "* Convert “Order Date and Time” and “Delivery Date and Time” to a datetime format. \n",
    "* Convert “Discounts and Offers” to a consistent numeric value (if applicable) or calculate the discount amounts.\n",
    "* Ensure all monetary values are in a suitable format for calculations."
   ]
  },
  {
   "cell_type": "code",
   "execution_count": 4,
   "id": "ef250e9a-0864-410a-813e-afcbc14f2b3f",
   "metadata": {},
   "outputs": [],
   "source": [
    "# convert date and time columns to datetime\n",
    "food_orders['Order Date and Time'] = pd.to_datetime(food_orders['Order Date and Time'])\n",
    "food_orders['Delivery Date and Time'] = pd.to_datetime(food_orders['Delivery Date and Time'])"
   ]
  },
  {
   "cell_type": "code",
   "execution_count": 5,
   "id": "f698b863-f537-4aa8-a1a5-5b50784acf0f",
   "metadata": {},
   "outputs": [],
   "source": [
    "# Create a function to extract numeric values from discount and offers string\n",
    "def extract_discount(discount_str):\n",
    "    if 'off' in discount_str:\n",
    "        # remove off from string\n",
    "        return float(discount_str.split(' ')[0])\n",
    "    elif '%' in discount_str:\n",
    "        # remove percentage from string\n",
    "        return float(discount_str.split('%')[0])\n",
    "    else:\n",
    "        # No discount\n",
    "        return 0.0 "
   ]
  },
  {
   "cell_type": "code",
   "execution_count": 6,
   "id": "3589f67b-8f21-47a0-9ef9-2c75efee4beb",
   "metadata": {},
   "outputs": [],
   "source": [
    "# Apply the function to create a new discount value column\n",
    "food_orders['Discount Percentage'] = food_orders['Discounts and Offers'].apply(lambda x: extract_discount(x)) "
   ]
  },
  {
   "cell_type": "code",
   "execution_count": 7,
   "id": "319c1065-3ba4-41c0-a9ca-788756fcf0f9",
   "metadata": {},
   "outputs": [],
   "source": [
    "# For percentage discounts, calculate the discount amount based on the order value\n",
    "food_orders['Discount Amount'] = food_orders.apply(lambda x: (x['Order Value'] * x['Discount Percentage'] / 100)\n",
    "                                                   if x['Discount Percentage'] > 1\n",
    "                                                   else x['Discount Percentage'], axis = 1)"
   ]
  },
  {
   "cell_type": "code",
   "execution_count": 8,
   "id": "09d04814-bf59-456d-95ca-ddbfabfba14c",
   "metadata": {},
   "outputs": [],
   "source": [
    "# Adjust discount amount for fixed discounts directly specified in the discounts and offers columns\n",
    "food_orders['Discount Amount'] = food_orders.apply(lambda x: x['Discount Amount'] if x['Discount Percentage'] <= 1\n",
    "                                                   else x['Order Value'] * x['Discount Percentage'] / 100, axis=1)"
   ]
  },
  {
   "cell_type": "code",
   "execution_count": 9,
   "id": "4b020bf3-b78f-4c40-81c2-e9d8db1e6a42",
   "metadata": {},
   "outputs": [
    {
     "name": "stdout",
     "output_type": "stream",
     "text": [
      "   Order Value Discounts and Offers  Discount Percentage  Discount Amount\n",
      "0         1914            5% on App                  5.0            95.70\n",
      "1          986                  10%                 10.0            98.60\n",
      "2          937         15% New User                 15.0           140.55\n",
      "3         1463                 None                  0.0             0.00\n",
      "4         1992         50 off Promo                 50.0           996.00 Order ID                           int64\n",
      "Customer ID                       object\n",
      "Restaurant ID                     object\n",
      "Order Date and Time       datetime64[ns]\n",
      "Delivery Date and Time    datetime64[ns]\n",
      "Order Value                        int64\n",
      "Delivery Fee                       int64\n",
      "Payment Method                    object\n",
      "Discounts and Offers              object\n",
      "Commission Fee                     int64\n",
      "Payment Processing Fee             int64\n",
      "Refunds/Chargebacks                int64\n",
      "Discount Percentage              float64\n",
      "Discount Amount                  float64\n",
      "dtype: object\n"
     ]
    }
   ],
   "source": [
    "print(food_orders[['Order Value', 'Discounts and Offers', 'Discount Percentage', 'Discount Amount']].head(), food_orders.dtypes)"
   ]
  },
  {
   "cell_type": "markdown",
   "id": "b1f306c8-31b3-40d3-9dd7-5a2235fd104c",
   "metadata": {},
   "source": [
    "## Adjusments Done:"
   ]
  },
  {
   "cell_type": "markdown",
   "id": "3ec54ba4-9a71-4801-b480-2fa4a1e1ef01",
   "metadata": {},
   "source": [
    "* Order Date and Time and Delivery Date and Time columns have been converted to datetime format.\n",
    "* A new column, Discount Amount, has been calculated based on the Discounts and Offers column. This was achieved by extracting percentage discounts or fixed amounts and applying them to the order value.\n",
    "* Discount Percentage has been added to represent the discount rate or fixed amount discount directly."
   ]
  },
  {
   "cell_type": "markdown",
   "id": "05b5db38-a427-4fc8-aa01-5ae5dd7bbc4a",
   "metadata": {},
   "source": [
    "## Cost and Profitibility Analysis"
   ]
  },
  {
   "cell_type": "markdown",
   "id": "daaeee52-7ec2-4f5d-8a2e-95513d7d0e86",
   "metadata": {},
   "source": [
    "For the cost analysis, we’ll consider the following costs associated with each order:\n",
    "\n",
    "* Delivery Fee: The fee charged for delivering the order.\n",
    "* Payment Processing Fee: The fee for processing the payment.\n",
    "* Discount Amount: The discount provided on the order.\n",
    "  \n",
    "We’ll calculate the total cost for the platform per order and then aggregate this data to understand the overall cost structure.\n",
    "\n",
    "The revenue for the platform is mainly derived from the Commission Fee. We’ll calculate the net profit by subtracting the total costs (including discounts) from the revenue generated through commission fees."
   ]
  },
  {
   "cell_type": "code",
   "execution_count": 10,
   "id": "39e37191-75cf-4289-80d7-a59c2d415bb5",
   "metadata": {},
   "outputs": [],
   "source": [
    "# Calculate total costs and revenue per order\n",
    "food_orders['Total Costs'] = food_orders['Delivery Fee'] + food_orders['Payment Processing Fee'] + food_orders['Discount Amount']\n",
    "food_orders['Revenue'] = food_orders['Commission Fee']\n",
    "food_orders['Profit'] = food_orders['Revenue'] - food_orders['Total Costs'] "
   ]
  },
  {
   "cell_type": "code",
   "execution_count": 11,
   "id": "8f2976b3-bcc2-4014-a155-5f557d3ee9bc",
   "metadata": {},
   "outputs": [],
   "source": [
    "# aggregate data to get overall metrics\n",
    "total_orders = food_orders.shape[0]\n",
    "total_revenue = food_orders['Revenue'].sum()\n",
    "total_costs = food_orders['Total Costs'].sum()\n",
    "total_profit = food_orders['Profit'].sum()"
   ]
  },
  {
   "cell_type": "code",
   "execution_count": 12,
   "id": "f29bbb15-88b4-405a-bac8-9a4e9d6ce06f",
   "metadata": {},
   "outputs": [
    {
     "name": "stdout",
     "output_type": "stream",
     "text": [
      "{'Total Orders': 1000, 'Total Revenue': 126990, 'Total Costs': 232709.85, 'Total Profit': -105719.85}\n"
     ]
    }
   ],
   "source": [
    "# overall metrics\n",
    "overall_metrics = {\n",
    "    \"Total Orders\": total_orders,\n",
    "    \"Total Revenue\": total_revenue,\n",
    "    \"Total Costs\": total_costs,\n",
    "    \"Total Profit\": total_profit\n",
    "}\n",
    "print(overall_metrics)"
   ]
  },
  {
   "cell_type": "markdown",
   "id": "af9f899e-8022-4040-8cdb-22cdb13b6467",
   "metadata": {},
   "source": [
    "Based on the analysis, here are the overall metrics for the food delivery operations:\n",
    "\n",
    "* Total Orders: 1,000\n",
    "* Total Revenue (from Commission Fees): 126,990 INR\n",
    "* Total Costs: 232,709.85 INR (including delivery fees, payment * processing fees, and discounts)\n",
    "* Total Profit: -105,719.85 INR"
   ]
  },
  {
   "cell_type": "markdown",
   "id": "cc84a5bc-a7f8-4119-9cb9-bb2b905d8a2b",
   "metadata": {},
   "source": [
    "The analysis indicates that the total costs associated with the food delivery operations exceed the total revenue generated from commission fees, resulting in a net loss. It suggests that the current commission rates, delivery fees, and discount strategies might not be sustainable for profitability."
   ]
  },
  {
   "cell_type": "markdown",
   "id": "3a435f9f-3272-4bce-adc8-1232361c4423",
   "metadata": {},
   "source": [
    "## EDA"
   ]
  },
  {
   "cell_type": "markdown",
   "id": "912a5d88-b5eb-4dd6-8ef9-22981a460fb4",
   "metadata": {},
   "source": [
    "To better understand the distribution of costs, revenue, and profit, let’s plot:\n",
    "\n",
    "1. A histogram of profits per order to visualize the distribution of profitable and unprofitable orders.\n",
    "2. A pie chart to visualize the proportion of total costs (delivery fees, payment processing fees, and discounts).\n",
    "3. A bar chart to compare total revenue, total costs, and total profit"
   ]
  },
  {
   "cell_type": "code",
   "execution_count": 17,
   "id": "8ee18f99-6fb8-4d72-b245-513ca87057ce",
   "metadata": {},
   "outputs": [
    {
     "data": {
      "image/png": "[encoded data removed]",
      "text/plain": [
       "<Figure size 720x432 with 1 Axes>"
      ]
     },
     "metadata": {
      "needs_background": "light"
     },
     "output_type": "display_data"
    }
   ],
   "source": [
    "# Histogram of profits per order\n",
    "plt.figure(figsize=(10,6))\n",
    "plt.hist(food_orders['Profit'], bins=50, color='skyblue', edgecolor='black')\n",
    "plt.title('Profit Distribution per Order in Food Delivery')\n",
    "plt.xlabel('Profit')\n",
    "plt.ylabel('Number of Orders')\n",
    "plt.axvline(food_orders['Profit'].mean(), color='red', linestyle='dashed', linewidth=1)\n",
    "plt.show()"
   ]
  },
  {
   "cell_type": "markdown",
   "id": "0b546baa-e559-4a34-a681-a58325ee66d1",
   "metadata": {},
   "source": [
    "The histogram shows a wide distribution of profit per order, with a noticeable number of orders resulting in a loss (profits below 0). The red dashed line indicates the average profit, which is in the negative territory, highlighting the overall loss-making situation."
   ]
  },
  {
   "cell_type": "code",
   "execution_count": 34,
   "id": "98e42278-7450-4766-8967-b600bd467c35",
   "metadata": {},
   "outputs": [
    {
     "data": {
      "image/png": "[encoded data removed]",
      "text/plain": [
       "<Figure size 504x504 with 1 Axes>"
      ]
     },
     "metadata": {},
     "output_type": "display_data"
    }
   ],
   "source": [
    "# Pie chart for the proportion of total costs\n",
    "costs_breakdown = food_orders[['Delivery Fee','Payment Processing Fee', 'Discount Amount']].sum()\n",
    "plt.figure(figsize=(7,7))\n",
    "pie = plt.pie(costs_breakdown, labels=costs_breakdown.index, autopct='%1.1f%%', startangle=140, colors=['tomato', 'gold', 'lightblue'])\n",
    "labels = pie[1]\n",
    "plt.setp(labels, color='white')\n",
    "plt.title('Proportion of Total Costs in Food Delivery', color='white')\n",
    "plt.show()"
   ]
  },
  {
   "cell_type": "markdown",
   "id": "c08488fa-fd79-4fd8-ae3d-51b300ba16f2",
   "metadata": {},
   "source": [
    "The pie chart illustrates the breakdown of total costs into delivery fees, payment processing fees, and discount amounts. Discounts constitute a significant portion of the costs, suggesting that promotional strategies might be heavily impacting overall profitability."
   ]
  },
  {
   "cell_type": "code",
   "execution_count": 36,
   "id": "7f2ef150-943d-400b-87b4-ed1da750aa14",
   "metadata": {},
   "outputs": [
    {
     "data": {
      "image/png": "[encoded data removed]",
      "text/plain": [
       "<Figure size 576x432 with 1 Axes>"
      ]
     },
     "metadata": {
      "needs_background": "light"
     },
     "output_type": "display_data"
    }
   ],
   "source": [
    "# Bar chart for total revenue, costs, and profit \n",
    "totals = ['Total Revenue', 'Total Costs', 'Total Profit']\n",
    "values = [total_revenue, total_costs, total_profit]\n",
    "\n",
    "plt.figure(figsize=(8,6))\n",
    "plt.bar(totals, values, color=['green', 'red', 'blue'])\n",
    "plt.title('Total Revenue, Costs, and Profit')\n",
    "plt.ylabel('Amount (INR)')\n",
    "plt.show()"
   ]
  },
  {
   "cell_type": "markdown",
   "id": "2991ef9b-4c6d-44d6-8009-6fa924c4f579",
   "metadata": {},
   "source": [
    "The bar chart compares total revenue, total costs, and total profit. It visually represents the gap between revenue and costs, clearly showing that the costs surpass the revenue, leading to a total loss."
   ]
  },
  {
   "cell_type": "markdown",
   "id": "f193d226-8e1b-4987-9597-d518950f4a6b",
   "metadata": {},
   "source": [
    "## A New Strategy for Profits"
   ]
  },
  {
   "cell_type": "markdown",
   "id": "35499358-631a-46a4-8f22-87dd2470d095",
   "metadata": {},
   "source": [
    "From the analysis so far we understood that the discounts on food orders are resulting in huge losses. Now, we need to find a new strategy for profitability. We need to find a sweet spot for offering discounts and charging commissions. To find a sweet spot for commission and discount percentages, we can analyze the characteristics of profitable orders more deeply. Specifically, we need to look for:\n",
    "\n",
    "1. A new average commission percentage based on profitable orders.\n",
    "2. A new average discount percentage for profitable orders, that could serve as a guideline for what level of discount still allows for profitability."
   ]
  },
  {
   "cell_type": "markdown",
   "id": "9a32e1ae-49e9-4de7-8fc3-2f54e4eec191",
   "metadata": {},
   "source": [
    "Given these new averages, we can suggest adjustments that might not only make individual orders profitable but also apply broadly across all orders to improve overall profitability. Let’s calculate:\n",
    "\n",
    "1. The average commission percentage for profitable orders.\n",
    "2. The average discount percentage for profitable orders."
   ]
  },
  {
   "cell_type": "code",
   "execution_count": 50,
   "id": "abc8f516-d4d1-4eb7-97c8-ef822a95a0ca",
   "metadata": {},
   "outputs": [],
   "source": [
    "# filter dataset for profitable orders\n",
    "profitable_orders = food_orders[food_orders['Profit'] > 0].copy()\n",
    "\n",
    "# calculate the average commision percentage for profitable orders\n",
    "profitable_orders['Commission Percentage'] = (profitable_orders['Commission Fee'] / profitable_orders['Order Value']) * 100\n",
    "\n",
    "# calculate the average discount percentage for profitable orders\n",
    "profitable_orders['Effective Discount Percentage'] = (profitable_orders['Discount Amount'] / profitable_orders['Order Value']) * 100\n",
    "\n",
    "# calculate the new averages\n",
    "new_avg_commission_percentage = profitable_orders['Commission Percentage'].mean()\n",
    "new_avg_discount_percentage  = profitable_orders['Effective Discount Percentage'].mean()"
   ]
  },
  {
   "cell_type": "code",
   "execution_count": 41,
   "id": "d8cae233-298c-4c40-8293-329ef50e2543",
   "metadata": {},
   "outputs": [
    {
     "name": "stdout",
     "output_type": "stream",
     "text": [
      "30.508436145149435 5.867469879518072\n"
     ]
    }
   ],
   "source": [
    "print(new_avg_commission_percentage, new_avg_discount_percentage)"
   ]
  },
  {
   "cell_type": "markdown",
   "id": "25debed6-9b76-4913-957f-bc38c93b8a8d",
   "metadata": {},
   "source": [
    "Based on the analysis of profitable orders, we find a new set of averages that could represent a “sweet spot” for commission and discount percentages:\n",
    "\n",
    "* New Average Commission Percentage: 30.51%\n",
    "* New Average Discount Percentage: 5.87%\n",
    "\n",
    "The average commission percentage for profitable orders is significantly higher than the overall average across all orders. It suggests that a higher commission rate on orders might be a key factor in achieving profitability. The average discount percentage for profitable orders is notably lower than the overall average, indicating that lower discounts might contribute to profitability without significantly deterring order volume.\n",
    "\n",
    "Based on this analysis, a strategy that aims for a commission rate closer to 30% and a discount rate around 6% could potentially improve profitability across the board."
   ]
  },
  {
   "cell_type": "markdown",
   "id": "de32de97-b75e-47df-a8d5-b77a9ee30d58",
   "metadata": {},
   "source": [
    "Now, let’s visualize a comparison of profitability using actual versus recommended discounts and commissions across all orders. For this, we need to:\n",
    "\n",
    "1. Calculate the profitability per order using the actual discounts and commissions already present in the dataset.\n",
    "2. Simulate profitability per order using the recommended discounts (6%) and commissions (30%) to see the potential impact on profitability.\n",
    "\n",
    "This comparison will help illustrate the potential impact of adopting the recommended discount and commission rates on the overall profitability of orders."
   ]
  },
  {
   "cell_type": "code",
   "execution_count": 51,
   "id": "4b5b2445-a950-4ff6-8468-36486690ccb3",
   "metadata": {},
   "outputs": [],
   "source": [
    "# simulate peofitability with recommended discounts and commissions\n",
    "recommended_commission_percentage = 30.0\n",
    "recommended_discount_percentage = 6.0\n",
    "\n",
    "# calculate the simulated commission fee and discount amount using recommended percentages\n",
    "food_orders['Simulated Commission Fee'] = food_orders['Order Value'] * (recommended_commission_percentage / 100)\n",
    "food_orders['Simulated Discount Amount'] = food_orders['Order Value'] * (recommended_discount_percentage / 100)\n",
    "\n",
    "# recalculate total costs and profit with simulated values\n",
    "food_orders['Simulated Total Costs'] = (food_orders['Delivery Fee'] +\n",
    "                                        food_orders['Payment Processing Fee'] +\n",
    "                                        food_orders['Simulated Discount Amount'])\n",
    "\n",
    "food_orders['Simulated Profit'] = (food_orders['Simulated Commission Fee'] -\n",
    "                                   food_orders['Simulated Total Costs'])\n"
   ]
  },
  {
   "cell_type": "code",
   "execution_count": 53,
   "id": "6c735762-8e38-4492-b612-bf1b9231ed12",
   "metadata": {},
   "outputs": [
    {
     "data": {
      "image/png": "[encoded data removed]",
      "text/plain": [
       "<Figure size 1008x504 with 1 Axes>"
      ]
     },
     "metadata": {
      "needs_background": "light"
     },
     "output_type": "display_data"
    }
   ],
   "source": [
    "# Visualize comparison\n",
    "plt.figure(figsize=(14,7))\n",
    "\n",
    "# actual profitabilty\n",
    "sns.kdeplot(food_orders['Profit'], label = 'Actual Profitability', fill=True, alpha=0.5, linewidth=2)\n",
    "\n",
    "# simulated profitability\n",
    "sns.kdeplot(food_orders['Simulated Profit'], label='Estimated Profitability with Recommended Rates', fill=True, alpha=0.5, linewidth=2)\n",
    "\n",
    "plt.title('Comparison of Profitability in Food Delivery: Actual vs. Recommended Discounts and Commissions')\n",
    "plt.xlabel('Profit')\n",
    "plt.ylabel('Density')\n",
    "plt.legend(loc='upper left')\n",
    "plt.show()"
   ]
  },
  {
   "cell_type": "markdown",
   "id": "47d7fab0-ee04-413b-8de0-e5afe2a03b67",
   "metadata": {},
   "source": [
    "The visualization compares the distribution of profitability per order using actual discounts and commissions versus the simulated scenario with recommended discounts (6%) and commissions (30%)."
   ]
  },
  {
   "cell_type": "markdown",
   "id": "dba63ec8-2c81-4c3b-861f-ad8e06344afe",
   "metadata": {},
   "source": [
    "The actual profitability distribution shows a mix, with a significant portion of orders resulting in losses (profit < 0) and a broad spread of profit levels for orders. The simulated scenario suggests a shift towards higher profitability per order. The distribution is more skewed towards positive profit, indicating that the recommended adjustments could lead to a higher proportion of profitable orders."
   ]
  },
  {
   "cell_type": "code",
   "execution_count": null,
   "id": "471ce980-0c5f-4f98-899a-f805a1e03b08",
   "metadata": {},
   "outputs": [],
   "source": []
  }
 ],
 "metadata": {
  "kernelspec": {
   "display_name": "Python 3 (ipykernel)",
   "language": "python",
   "name": "python3"
  },
  "language_info": {
   "codemirror_mode": {
    "name": "ipython",
    "version": 3
   },
   "file_extension": ".py",
   "mimetype": "text/x-python",
   "name": "python",
   "nbconvert_exporter": "python",
   "pygments_lexer": "ipython3",
   "version": "3.10.5"
  }
 },
 "nbformat": 4,
 "nbformat_minor": 5
}
